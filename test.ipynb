{
 "cells": [
  {
   "cell_type": "code",
   "execution_count": 2,
   "id": "0120d78a",
   "metadata": {},
   "outputs": [],
   "source": [
    "import requests\n",
    "import pandas as pd\n",
    "from io import StringIO"
   ]
  },
  {
   "cell_type": "code",
   "execution_count": 77,
   "id": "f02be692",
   "metadata": {},
   "outputs": [],
   "source": [
    "# Primero entenderme con los csv y ya cuando tal alomejor me pongo con json para traer los datos en inglés\n",
    "\n",
    "url = \"https://datos.canarias.es/api/estadisticas/statistical-resources/v1.0/datasets/ISTAC/C00017A_000013/~latest\"\n",
    "params = {\"locale\": \"en\"}\n",
    "headers = {\"Accept\": \"application/json\"}\n",
    "\n",
    "response = requests.get(url, params=params, headers=headers)\n",
    "data = response.json()"
   ]
  },
  {
   "cell_type": "markdown",
   "id": "d7e86bc1",
   "metadata": {},
   "source": [
    "### Variable Descriptions"
   ]
  },
  {
   "cell_type": "markdown",
   "id": "54f237be",
   "metadata": {},
   "source": [
    "Description of variable MOVIMIENTO_AERONAVE:\n",
    "\n",
    "1. Otros servicios comerciales (Other commercial services)\n",
    "\n",
    "This includes air operations that are commercial, but are not regular passenger or cargo transportation. Examples:\n",
    "\n",
    "Sightseeing flights (aerial tours)\n",
    "\n",
    "Crop spraying or aerial work\n",
    "\n",
    "Aerial advertising (planes with banners)\n",
    "\n",
    "Aerial photography\n",
    "\n",
    "Air taxi (though sometimes it falls under “Non-regular”)\n",
    "\n",
    "In other words, these are services that generate revenue but are not scheduled airline or traditional charter operations.\n",
    "\n",
    "2. No regular (Non-regular)\n",
    "\n",
    "Also called charter flights. These are commercial passenger or cargo flights that do not follow a fixed schedule or a regular frequency. Examples:\n",
    "\n",
    "A flight hired by a group for an event\n",
    "\n",
    "A humanitarian flight (if commercial)\n",
    "\n",
    "On-demand operations\n",
    "\n",
    "3. Regular (regular)\n",
    "\n",
    "Flights that are scheduled commercial services, with established frequency, fixed routes, and open sale to the public. Examples:\n",
    "\n",
    "Traditional airlines (LATAM, Iberia, etc.)\n",
    "\n",
    "Daily/weekly flights with published timetables\n",
    "\n",
    "4. Comercial (comercial)\n",
    "\n",
    "This is a generic term that usually encompasses all flights that are for profit (i.e., passenger, cargo, or mail transportation for payment). However, in some datasets, it’s used as a base category when no further detail is provided. It may include both regular and non-regular flights.\n",
    "\n",
    "In our case is the sum of Regular and Non-Regular"
   ]
  },
  {
   "cell_type": "markdown",
   "id": "c7c566de",
   "metadata": {},
   "source": [
    "Ignore:\n",
    "ESTADO_OBSERVACION, CONFIDENCIALIDAD_OBSERVACION"
   ]
  },
  {
   "cell_type": "markdown",
   "id": "721c38ad",
   "metadata": {},
   "source": [
    "## Tráfico por islas y principales territorios de escala o de origen/destino"
   ]
  },
  {
   "cell_type": "markdown",
   "id": "e443456f",
   "metadata": {},
   "source": [
    "### 01 Tráfico de pasajeros (Passenger Traffic)"
   ]
  },
  {
   "cell_type": "markdown",
   "id": "83543411",
   "metadata": {},
   "source": [
    "Tráfico de pasajeros registrados en los aeropuertos de las islas de Canarias según movimientos (llegadas y salidas), servicios comerciales y principales territorios de escala (territorio de despegue anterior al territorio de llegada independientemente del origen del vuelo / territorio de aterrizaje siguiente al territorio de salida independientemente del destino del vuelo). Datos mensuales y anuales para Canarias desde el año 2004."
   ]
  },
  {
   "cell_type": "markdown",
   "id": "17f1d848",
   "metadata": {},
   "source": [
    "Número de personas embarcadas y desembarcadas (entradas y salidas) de una aeronave en un aeropuerto, excluyendo a los miembros en servicio de las tripulaciones de vuelo y cabina."
   ]
  },
  {
   "cell_type": "markdown",
   "id": "63dfd9c1",
   "metadata": {},
   "source": [
    "For each island (TERRITORIO), for each destination/origin airport (AEROPUERTO_ESCALA), for each type of flight (MOVIMIENTO_AERONAVE), for each month provides the value of the passengers arrived from that airport (MOVIMIENTO_AERONAVE#es: Llegada), heading to that airport (MOVIMIENTO_AERONAVE#es: Salida) and Total \\"
   ]
  },
  {
   "cell_type": "code",
   "execution_count": 66,
   "id": "824d291f",
   "metadata": {},
   "outputs": [],
   "source": [
    "# URL of the CSV API\n",
    "url = \"https://datos.canarias.es/api/estadisticas/statistical-resources/v1.0/datasets/ISTAC/C00017A_000013/~latest.csv?locale=en\""
   ]
  },
  {
   "cell_type": "code",
   "execution_count": 67,
   "id": "04231b5f",
   "metadata": {},
   "outputs": [],
   "source": [
    "# Send HTTP GET request\n",
    "response = requests.get(url)\n",
    "\n",
    "# Check if the request was successful\n",
    "if response.status_code == 200:\n",
    "    # Read CSV data using pandas\n",
    "    csv_data = StringIO(response.content.decode(\"utf-8\"))\n",
    "    data = pd.read_csv(csv_data)\n",
    "else:\n",
    "    print(\"Failed to retrieve data. Status code:\", response.status_code)"
   ]
  },
  {
   "cell_type": "code",
   "execution_count": 68,
   "id": "dcf7362d",
   "metadata": {},
   "outputs": [
    {
     "data": {
      "text/plain": [
       "Index(['MEDIDAS#es', 'MEDIDAS_CODE', 'TERRITORIO#es', 'TERRITORIO_CODE',\n",
       "       'AEROPUERTO_ESCALA#es', 'AEROPUERTO_ESCALA_CODE',\n",
       "       'MOVIMIENTO_AERONAVE#es', 'MOVIMIENTO_AERONAVE_CODE',\n",
       "       'SERVICIO_AEREO#es', 'SERVICIO_AEREO_CODE', 'TIME_PERIOD#es',\n",
       "       'TIME_PERIOD_CODE', 'OBS_VALUE', 'ESTADO_OBSERVACION#es',\n",
       "       'ESTADO_OBSERVACION_CODE', 'CONFIDENCIALIDAD_OBSERVACION#es'],\n",
       "      dtype='object')"
      ]
     },
     "execution_count": 68,
     "metadata": {},
     "output_type": "execute_result"
    }
   ],
   "source": [
    "data.columns"
   ]
  },
  {
   "cell_type": "code",
   "execution_count": 69,
   "id": "2315f8db",
   "metadata": {},
   "outputs": [],
   "source": [
    "df_passengers_only = data.copy(deep=True)"
   ]
  },
  {
   "cell_type": "code",
   "execution_count": 79,
   "id": "9cbe9742",
   "metadata": {},
   "outputs": [
    {
     "data": {
      "text/plain": [
       "(215040, 8)"
      ]
     },
     "execution_count": 79,
     "metadata": {},
     "output_type": "execute_result"
    }
   ],
   "source": [
    "df_passengers_only.shape"
   ]
  },
  {
   "cell_type": "code",
   "execution_count": 71,
   "id": "ff6247a9",
   "metadata": {},
   "outputs": [],
   "source": [
    "df_passengers_only = df_passengers_only.drop(columns=df_passengers_only.columns[df_passengers_only.columns.str.endswith('_CODE')])"
   ]
  },
  {
   "cell_type": "code",
   "execution_count": 72,
   "id": "f751e706",
   "metadata": {},
   "outputs": [],
   "source": [
    "# Contains one value for every row (Pasajeros)\n",
    "df_passengers_only.drop('MEDIDAS#es', axis=1, inplace=True)"
   ]
  },
  {
   "cell_type": "code",
   "execution_count": 73,
   "id": "2bfc7abd",
   "metadata": {},
   "outputs": [
    {
     "name": "stdout",
     "output_type": "stream",
     "text": [
      "<class 'pandas.core.frame.DataFrame'>\n",
      "RangeIndex: 215040 entries, 0 to 215039\n",
      "Data columns (total 8 columns):\n",
      " #   Column                           Non-Null Count   Dtype  \n",
      "---  ------                           --------------   -----  \n",
      " 0   TERRITORIO#es                    215040 non-null  object \n",
      " 1   AEROPUERTO_ESCALA#es             215040 non-null  object \n",
      " 2   MOVIMIENTO_AERONAVE#es           215040 non-null  object \n",
      " 3   SERVICIO_AEREO#es                215040 non-null  object \n",
      " 4   TIME_PERIOD#es                   215040 non-null  object \n",
      " 5   OBS_VALUE                        143567 non-null  float64\n",
      " 6   ESTADO_OBSERVACION#es            143567 non-null  object \n",
      " 7   CONFIDENCIALIDAD_OBSERVACION#es  0 non-null       float64\n",
      "dtypes: float64(2), object(6)\n",
      "memory usage: 13.1+ MB\n"
     ]
    }
   ],
   "source": [
    "df_passengers_only.info()"
   ]
  },
  {
   "cell_type": "code",
   "execution_count": 74,
   "id": "8470a68d",
   "metadata": {},
   "outputs": [
    {
     "name": "stdout",
     "output_type": "stream",
     "text": [
      "TERRITORIO#es\n",
      "['Canarias' 'Lanzarote' 'Fuerteventura' 'Gran Canaria' 'Tenerife'\n",
      " 'La Gomera' 'La Palma' 'El Hierro']\n",
      "AEROPUERTO_ESCALA#es\n",
      "['Reino Unido' 'Extranjero' 'Canarias'\n",
      " 'Extranjeros y España (excluida Canarias)' 'España (excluida Canarias)'\n",
      " 'España' 'Total' 'Alemania']\n",
      "MOVIMIENTO_AERONAVE#es\n",
      "['Llegada' 'Salida' 'Total']\n",
      "SERVICIO_AEREO#es\n",
      "['Comercial' 'Otros servicios comerciales' 'No regular' 'Regular']\n",
      "ESTADO_OBSERVACION#es\n",
      "['Valor normal' 'Valor provisional' nan]\n"
     ]
    }
   ],
   "source": [
    "for c in df_passengers_only.select_dtypes(\"object\").columns:\n",
    "    if c == \"TIME_PERIOD#es\":\n",
    "        continue\n",
    "    print(c)\n",
    "    print(df_passengers_only[c].unique())"
   ]
  },
  {
   "cell_type": "code",
   "execution_count": 80,
   "id": "bcdd9f3e",
   "metadata": {},
   "outputs": [
    {
     "data": {
      "text/html": [
       "<div>\n",
       "<style scoped>\n",
       "    .dataframe tbody tr th:only-of-type {\n",
       "        vertical-align: middle;\n",
       "    }\n",
       "\n",
       "    .dataframe tbody tr th {\n",
       "        vertical-align: top;\n",
       "    }\n",
       "\n",
       "    .dataframe thead th {\n",
       "        text-align: right;\n",
       "    }\n",
       "</style>\n",
       "<table border=\"1\" class=\"dataframe\">\n",
       "  <thead>\n",
       "    <tr style=\"text-align: right;\">\n",
       "      <th></th>\n",
       "      <th>TERRITORIO#es</th>\n",
       "      <th>AEROPUERTO_ESCALA#es</th>\n",
       "      <th>MOVIMIENTO_AERONAVE#es</th>\n",
       "      <th>SERVICIO_AEREO#es</th>\n",
       "      <th>TIME_PERIOD#es</th>\n",
       "      <th>OBS_VALUE</th>\n",
       "      <th>ESTADO_OBSERVACION#es</th>\n",
       "      <th>CONFIDENCIALIDAD_OBSERVACION#es</th>\n",
       "    </tr>\n",
       "  </thead>\n",
       "  <tbody>\n",
       "    <tr>\n",
       "      <th>0</th>\n",
       "      <td>Canarias</td>\n",
       "      <td>Reino Unido</td>\n",
       "      <td>Llegada</td>\n",
       "      <td>Comercial</td>\n",
       "      <td>01/2004</td>\n",
       "      <td>317378.0</td>\n",
       "      <td>Valor normal</td>\n",
       "      <td>NaN</td>\n",
       "    </tr>\n",
       "    <tr>\n",
       "      <th>1</th>\n",
       "      <td>Canarias</td>\n",
       "      <td>Reino Unido</td>\n",
       "      <td>Llegada</td>\n",
       "      <td>Comercial</td>\n",
       "      <td>02/2004</td>\n",
       "      <td>320960.0</td>\n",
       "      <td>Valor normal</td>\n",
       "      <td>NaN</td>\n",
       "    </tr>\n",
       "    <tr>\n",
       "      <th>2</th>\n",
       "      <td>Canarias</td>\n",
       "      <td>Reino Unido</td>\n",
       "      <td>Llegada</td>\n",
       "      <td>Comercial</td>\n",
       "      <td>06/2010</td>\n",
       "      <td>251362.0</td>\n",
       "      <td>Valor normal</td>\n",
       "      <td>NaN</td>\n",
       "    </tr>\n",
       "    <tr>\n",
       "      <th>3</th>\n",
       "      <td>Canarias</td>\n",
       "      <td>Reino Unido</td>\n",
       "      <td>Llegada</td>\n",
       "      <td>Comercial</td>\n",
       "      <td>07/2010</td>\n",
       "      <td>296367.0</td>\n",
       "      <td>Valor normal</td>\n",
       "      <td>NaN</td>\n",
       "    </tr>\n",
       "    <tr>\n",
       "      <th>4</th>\n",
       "      <td>Canarias</td>\n",
       "      <td>Reino Unido</td>\n",
       "      <td>Llegada</td>\n",
       "      <td>Comercial</td>\n",
       "      <td>08/2010</td>\n",
       "      <td>287040.0</td>\n",
       "      <td>Valor normal</td>\n",
       "      <td>NaN</td>\n",
       "    </tr>\n",
       "    <tr>\n",
       "      <th>...</th>\n",
       "      <td>...</td>\n",
       "      <td>...</td>\n",
       "      <td>...</td>\n",
       "      <td>...</td>\n",
       "      <td>...</td>\n",
       "      <td>...</td>\n",
       "      <td>...</td>\n",
       "      <td>...</td>\n",
       "    </tr>\n",
       "    <tr>\n",
       "      <th>215035</th>\n",
       "      <td>El Hierro</td>\n",
       "      <td>Alemania</td>\n",
       "      <td>Total</td>\n",
       "      <td>Regular</td>\n",
       "      <td>01/2010</td>\n",
       "      <td>NaN</td>\n",
       "      <td>NaN</td>\n",
       "      <td>NaN</td>\n",
       "    </tr>\n",
       "    <tr>\n",
       "      <th>215036</th>\n",
       "      <td>El Hierro</td>\n",
       "      <td>Alemania</td>\n",
       "      <td>Total</td>\n",
       "      <td>Regular</td>\n",
       "      <td>02/2010</td>\n",
       "      <td>NaN</td>\n",
       "      <td>NaN</td>\n",
       "      <td>NaN</td>\n",
       "    </tr>\n",
       "    <tr>\n",
       "      <th>215037</th>\n",
       "      <td>El Hierro</td>\n",
       "      <td>Alemania</td>\n",
       "      <td>Total</td>\n",
       "      <td>Regular</td>\n",
       "      <td>03/2010</td>\n",
       "      <td>NaN</td>\n",
       "      <td>NaN</td>\n",
       "      <td>NaN</td>\n",
       "    </tr>\n",
       "    <tr>\n",
       "      <th>215038</th>\n",
       "      <td>El Hierro</td>\n",
       "      <td>Alemania</td>\n",
       "      <td>Total</td>\n",
       "      <td>Regular</td>\n",
       "      <td>04/2010</td>\n",
       "      <td>NaN</td>\n",
       "      <td>NaN</td>\n",
       "      <td>NaN</td>\n",
       "    </tr>\n",
       "    <tr>\n",
       "      <th>215039</th>\n",
       "      <td>El Hierro</td>\n",
       "      <td>Alemania</td>\n",
       "      <td>Total</td>\n",
       "      <td>Regular</td>\n",
       "      <td>05/2010</td>\n",
       "      <td>NaN</td>\n",
       "      <td>NaN</td>\n",
       "      <td>NaN</td>\n",
       "    </tr>\n",
       "  </tbody>\n",
       "</table>\n",
       "<p>215040 rows × 8 columns</p>\n",
       "</div>"
      ],
      "text/plain": [
       "       TERRITORIO#es AEROPUERTO_ESCALA#es MOVIMIENTO_AERONAVE#es  \\\n",
       "0           Canarias          Reino Unido                Llegada   \n",
       "1           Canarias          Reino Unido                Llegada   \n",
       "2           Canarias          Reino Unido                Llegada   \n",
       "3           Canarias          Reino Unido                Llegada   \n",
       "4           Canarias          Reino Unido                Llegada   \n",
       "...              ...                  ...                    ...   \n",
       "215035     El Hierro             Alemania                  Total   \n",
       "215036     El Hierro             Alemania                  Total   \n",
       "215037     El Hierro             Alemania                  Total   \n",
       "215038     El Hierro             Alemania                  Total   \n",
       "215039     El Hierro             Alemania                  Total   \n",
       "\n",
       "       SERVICIO_AEREO#es TIME_PERIOD#es  OBS_VALUE ESTADO_OBSERVACION#es  \\\n",
       "0              Comercial        01/2004   317378.0          Valor normal   \n",
       "1              Comercial        02/2004   320960.0          Valor normal   \n",
       "2              Comercial        06/2010   251362.0          Valor normal   \n",
       "3              Comercial        07/2010   296367.0          Valor normal   \n",
       "4              Comercial        08/2010   287040.0          Valor normal   \n",
       "...                  ...            ...        ...                   ...   \n",
       "215035           Regular        01/2010        NaN                   NaN   \n",
       "215036           Regular        02/2010        NaN                   NaN   \n",
       "215037           Regular        03/2010        NaN                   NaN   \n",
       "215038           Regular        04/2010        NaN                   NaN   \n",
       "215039           Regular        05/2010        NaN                   NaN   \n",
       "\n",
       "        CONFIDENCIALIDAD_OBSERVACION#es  \n",
       "0                                   NaN  \n",
       "1                                   NaN  \n",
       "2                                   NaN  \n",
       "3                                   NaN  \n",
       "4                                   NaN  \n",
       "...                                 ...  \n",
       "215035                              NaN  \n",
       "215036                              NaN  \n",
       "215037                              NaN  \n",
       "215038                              NaN  \n",
       "215039                              NaN  \n",
       "\n",
       "[215040 rows x 8 columns]"
      ]
     },
     "execution_count": 80,
     "metadata": {},
     "output_type": "execute_result"
    }
   ],
   "source": [
    "df_passengers_only"
   ]
  },
  {
   "cell_type": "code",
   "execution_count": null,
   "id": "62b8f46d",
   "metadata": {},
   "outputs": [],
   "source": [
    "#df_passengers_only.loc[(df_passengers_only['TIME_PERIOD#es'] == \"07/2025\") & (df_passengers_only['SERVICIO_AEREO#es'] == \"Comercial\")].to_csv('borrar.csv', index=False)\n",
    "#df_passengers_only.loc[(df_passengers_only['TERRITORIO#es'] == \"Canarias\") & (df_passengers_only['TIME_PERIOD#es'] == \"07/2025\") & (df_passengers_only[\"AEROPUERTO_ESCALA#es\"] == \"Reino Unido\") & (df_passengers_only[\"MOVIMIENTO_AERONAVE#es\"] == \"Total\")].to_csv('borrar.csv', index=False)"
   ]
  },
  {
   "cell_type": "markdown",
   "id": "a021f6c0",
   "metadata": {},
   "source": [
    "### 02 Tráfico de Mercancías y correos (Goods and Mail Traffic)"
   ]
  },
  {
   "cell_type": "markdown",
   "id": "658fa025",
   "metadata": {},
   "source": [
    "Tráfico de mercancías y correos registrados en los aeropuertos de las islas de Canarias según movimientos (llegadas y salidas), servicios comerciales y principales territorios de escala (territorio de despegue anterior al territorio de llegada independientemente del origen del vuelo / territorio de aterrizaje siguiente al territorio de salida independientemente del destino del vuelo). Datos mensuales y anuales para Canarias desde el año 2004.\n",
    "\n",
    "Goods\n",
    "Peso del total de mercancía transportada, expresado en kilogramos. Donde mercancía es cualquier propiedad transportada en una aeronave que no sea correo, suministros ni equipaje.\n",
    "Mail\n",
    "Peso del total de correo transportado, expresado en kilogramos. Donde correo es el envío de correspondencia y otros objetos transportados en una aeronave, que han sido enviados y destinados a ser entregados a las administraciones postales."
   ]
  },
  {
   "cell_type": "code",
   "execution_count": 37,
   "id": "0eb4789e",
   "metadata": {},
   "outputs": [],
   "source": [
    "# URL of the CSV API\n",
    "url = \"https://datos.canarias.es/api/estadisticas/statistical-resources/v1.0/datasets/ISTAC/C00017A_000014/~latest.csv\""
   ]
  },
  {
   "cell_type": "code",
   "execution_count": 38,
   "id": "cbbd89a0",
   "metadata": {},
   "outputs": [],
   "source": [
    "# Send HTTP GET request\n",
    "response = requests.get(url)\n",
    "\n",
    "# Check if the request was successful\n",
    "if response.status_code == 200:\n",
    "    # Read CSV data using pandas\n",
    "    csv_data = StringIO(response.content.decode(\"utf-8\"))\n",
    "    data = pd.read_csv(csv_data)\n",
    "else:\n",
    "    print(\"Failed to retrieve data. Status code:\", response.status_code)"
   ]
  },
  {
   "cell_type": "code",
   "execution_count": 39,
   "id": "20cb4c3b",
   "metadata": {},
   "outputs": [],
   "source": [
    "df_gm_only = data.copy(deep=True)"
   ]
  },
  {
   "cell_type": "code",
   "execution_count": 42,
   "id": "2c7bbcd6",
   "metadata": {},
   "outputs": [],
   "source": [
    "df_gm_only.drop(columns=df_gm_only.columns[df_gm_only.columns.str.endswith('_CODE')], inplace=True)"
   ]
  },
  {
   "cell_type": "code",
   "execution_count": 81,
   "id": "76cf048e",
   "metadata": {},
   "outputs": [
    {
     "data": {
      "text/html": [
       "<div>\n",
       "<style scoped>\n",
       "    .dataframe tbody tr th:only-of-type {\n",
       "        vertical-align: middle;\n",
       "    }\n",
       "\n",
       "    .dataframe tbody tr th {\n",
       "        vertical-align: top;\n",
       "    }\n",
       "\n",
       "    .dataframe thead th {\n",
       "        text-align: right;\n",
       "    }\n",
       "</style>\n",
       "<table border=\"1\" class=\"dataframe\">\n",
       "  <thead>\n",
       "    <tr style=\"text-align: right;\">\n",
       "      <th></th>\n",
       "      <th>MEDIDAS#es</th>\n",
       "      <th>TERRITORIO#es</th>\n",
       "      <th>AEROPUERTO_ESCALA#es</th>\n",
       "      <th>MOVIMIENTO_AERONAVE#es</th>\n",
       "      <th>SERVICIO_AEREO#es</th>\n",
       "      <th>TIME_PERIOD#es</th>\n",
       "      <th>OBS_VALUE</th>\n",
       "      <th>ESTADO_OBSERVACION#es</th>\n",
       "      <th>CONFIDENCIALIDAD_OBSERVACION#es</th>\n",
       "    </tr>\n",
       "  </thead>\n",
       "  <tbody>\n",
       "    <tr>\n",
       "      <th>0</th>\n",
       "      <td>Correo</td>\n",
       "      <td>Canarias</td>\n",
       "      <td>Reino Unido</td>\n",
       "      <td>Llegada</td>\n",
       "      <td>Comercial</td>\n",
       "      <td>01/2004</td>\n",
       "      <td>NaN</td>\n",
       "      <td>NaN</td>\n",
       "      <td>NaN</td>\n",
       "    </tr>\n",
       "    <tr>\n",
       "      <th>1</th>\n",
       "      <td>Correo</td>\n",
       "      <td>Canarias</td>\n",
       "      <td>Reino Unido</td>\n",
       "      <td>Llegada</td>\n",
       "      <td>Comercial</td>\n",
       "      <td>02/2004</td>\n",
       "      <td>NaN</td>\n",
       "      <td>NaN</td>\n",
       "      <td>NaN</td>\n",
       "    </tr>\n",
       "    <tr>\n",
       "      <th>2</th>\n",
       "      <td>Correo</td>\n",
       "      <td>Canarias</td>\n",
       "      <td>Reino Unido</td>\n",
       "      <td>Llegada</td>\n",
       "      <td>Comercial</td>\n",
       "      <td>03/2004</td>\n",
       "      <td>40.0</td>\n",
       "      <td>Valor normal</td>\n",
       "      <td>NaN</td>\n",
       "    </tr>\n",
       "    <tr>\n",
       "      <th>3</th>\n",
       "      <td>Correo</td>\n",
       "      <td>Canarias</td>\n",
       "      <td>Reino Unido</td>\n",
       "      <td>Llegada</td>\n",
       "      <td>Comercial</td>\n",
       "      <td>04/2004</td>\n",
       "      <td>NaN</td>\n",
       "      <td>NaN</td>\n",
       "      <td>NaN</td>\n",
       "    </tr>\n",
       "    <tr>\n",
       "      <th>4</th>\n",
       "      <td>Correo</td>\n",
       "      <td>Canarias</td>\n",
       "      <td>Reino Unido</td>\n",
       "      <td>Llegada</td>\n",
       "      <td>Comercial</td>\n",
       "      <td>05/2004</td>\n",
       "      <td>NaN</td>\n",
       "      <td>NaN</td>\n",
       "      <td>NaN</td>\n",
       "    </tr>\n",
       "    <tr>\n",
       "      <th>...</th>\n",
       "      <td>...</td>\n",
       "      <td>...</td>\n",
       "      <td>...</td>\n",
       "      <td>...</td>\n",
       "      <td>...</td>\n",
       "      <td>...</td>\n",
       "      <td>...</td>\n",
       "      <td>...</td>\n",
       "      <td>...</td>\n",
       "    </tr>\n",
       "    <tr>\n",
       "      <th>430075</th>\n",
       "      <td>Mercancía</td>\n",
       "      <td>El Hierro</td>\n",
       "      <td>Alemania</td>\n",
       "      <td>Total</td>\n",
       "      <td>Regular</td>\n",
       "      <td>2019</td>\n",
       "      <td>NaN</td>\n",
       "      <td>NaN</td>\n",
       "      <td>NaN</td>\n",
       "    </tr>\n",
       "    <tr>\n",
       "      <th>430076</th>\n",
       "      <td>Mercancía</td>\n",
       "      <td>El Hierro</td>\n",
       "      <td>Alemania</td>\n",
       "      <td>Total</td>\n",
       "      <td>Regular</td>\n",
       "      <td>01/2020</td>\n",
       "      <td>NaN</td>\n",
       "      <td>NaN</td>\n",
       "      <td>NaN</td>\n",
       "    </tr>\n",
       "    <tr>\n",
       "      <th>430077</th>\n",
       "      <td>Mercancía</td>\n",
       "      <td>El Hierro</td>\n",
       "      <td>Alemania</td>\n",
       "      <td>Total</td>\n",
       "      <td>Regular</td>\n",
       "      <td>02/2020</td>\n",
       "      <td>NaN</td>\n",
       "      <td>NaN</td>\n",
       "      <td>NaN</td>\n",
       "    </tr>\n",
       "    <tr>\n",
       "      <th>430078</th>\n",
       "      <td>Mercancía</td>\n",
       "      <td>El Hierro</td>\n",
       "      <td>Alemania</td>\n",
       "      <td>Total</td>\n",
       "      <td>Regular</td>\n",
       "      <td>03/2020</td>\n",
       "      <td>NaN</td>\n",
       "      <td>NaN</td>\n",
       "      <td>NaN</td>\n",
       "    </tr>\n",
       "    <tr>\n",
       "      <th>430079</th>\n",
       "      <td>Mercancía</td>\n",
       "      <td>El Hierro</td>\n",
       "      <td>Alemania</td>\n",
       "      <td>Total</td>\n",
       "      <td>Regular</td>\n",
       "      <td>04/2020</td>\n",
       "      <td>NaN</td>\n",
       "      <td>NaN</td>\n",
       "      <td>NaN</td>\n",
       "    </tr>\n",
       "  </tbody>\n",
       "</table>\n",
       "<p>430080 rows × 9 columns</p>\n",
       "</div>"
      ],
      "text/plain": [
       "       MEDIDAS#es TERRITORIO#es AEROPUERTO_ESCALA#es MOVIMIENTO_AERONAVE#es  \\\n",
       "0          Correo      Canarias          Reino Unido                Llegada   \n",
       "1          Correo      Canarias          Reino Unido                Llegada   \n",
       "2          Correo      Canarias          Reino Unido                Llegada   \n",
       "3          Correo      Canarias          Reino Unido                Llegada   \n",
       "4          Correo      Canarias          Reino Unido                Llegada   \n",
       "...           ...           ...                  ...                    ...   \n",
       "430075  Mercancía     El Hierro             Alemania                  Total   \n",
       "430076  Mercancía     El Hierro             Alemania                  Total   \n",
       "430077  Mercancía     El Hierro             Alemania                  Total   \n",
       "430078  Mercancía     El Hierro             Alemania                  Total   \n",
       "430079  Mercancía     El Hierro             Alemania                  Total   \n",
       "\n",
       "       SERVICIO_AEREO#es TIME_PERIOD#es  OBS_VALUE ESTADO_OBSERVACION#es  \\\n",
       "0              Comercial        01/2004        NaN                   NaN   \n",
       "1              Comercial        02/2004        NaN                   NaN   \n",
       "2              Comercial        03/2004       40.0          Valor normal   \n",
       "3              Comercial        04/2004        NaN                   NaN   \n",
       "4              Comercial        05/2004        NaN                   NaN   \n",
       "...                  ...            ...        ...                   ...   \n",
       "430075           Regular           2019        NaN                   NaN   \n",
       "430076           Regular        01/2020        NaN                   NaN   \n",
       "430077           Regular        02/2020        NaN                   NaN   \n",
       "430078           Regular        03/2020        NaN                   NaN   \n",
       "430079           Regular        04/2020        NaN                   NaN   \n",
       "\n",
       "        CONFIDENCIALIDAD_OBSERVACION#es  \n",
       "0                                   NaN  \n",
       "1                                   NaN  \n",
       "2                                   NaN  \n",
       "3                                   NaN  \n",
       "4                                   NaN  \n",
       "...                                 ...  \n",
       "430075                              NaN  \n",
       "430076                              NaN  \n",
       "430077                              NaN  \n",
       "430078                              NaN  \n",
       "430079                              NaN  \n",
       "\n",
       "[430080 rows x 9 columns]"
      ]
     },
     "execution_count": 81,
     "metadata": {},
     "output_type": "execute_result"
    }
   ],
   "source": [
    "df_gm_only"
   ]
  },
  {
   "cell_type": "code",
   "execution_count": null,
   "id": "8e4b91d4",
   "metadata": {},
   "outputs": [],
   "source": [
    "#df_gm_only.to_csv(\"borrar.csv\", index=False)"
   ]
  },
  {
   "cell_type": "markdown",
   "id": "b6a86563",
   "metadata": {},
   "source": [
    "### 03 Tráfico de Operaciones"
   ]
  },
  {
   "cell_type": "markdown",
   "id": "eb2ada61",
   "metadata": {},
   "source": [
    "Tráfico de operaciones registradas en los aeropuertos de las islas de Canarias según movimientos (llegadas y salidas), servicios comerciales y principales territorios de origen/destino (territorio de origen o destino independientemente de si ha hecho o hará escala en otro territorio). Datos mensuales y anuales para Canarias desde el año 2004.\n",
    "\n",
    "Operations\n",
    "Número total de operaciones de aterrizaje y despegue efectuados por las aeronaves en el aeropuerto."
   ]
  },
  {
   "cell_type": "code",
   "execution_count": 47,
   "id": "2a127027",
   "metadata": {},
   "outputs": [],
   "source": [
    "url = \"https://datos.canarias.es/api/estadisticas/statistical-resources/v1.0/datasets/ISTAC/C00017A_000015/~latest.csv\""
   ]
  },
  {
   "cell_type": "code",
   "execution_count": 48,
   "id": "2d2c4fee",
   "metadata": {},
   "outputs": [],
   "source": [
    "# Send HTTP GET request\n",
    "response = requests.get(url)\n",
    "\n",
    "# Check if the request was successful\n",
    "if response.status_code == 200:\n",
    "    # Read CSV data using pandas\n",
    "    csv_data = StringIO(response.content.decode(\"utf-8\"))\n",
    "    data = pd.read_csv(csv_data)\n",
    "else:\n",
    "    print(\"Failed to retrieve data. Status code:\", response.status_code)"
   ]
  },
  {
   "cell_type": "code",
   "execution_count": 49,
   "id": "e7d61f56",
   "metadata": {},
   "outputs": [],
   "source": [
    "df_op_only = data.copy(deep=True)"
   ]
  },
  {
   "cell_type": "code",
   "execution_count": 50,
   "id": "d1da0ef4",
   "metadata": {},
   "outputs": [],
   "source": [
    "df_op_only.drop(columns=df_op_only.columns[df_op_only.columns.str.endswith('_CODE')], inplace=True)"
   ]
  },
  {
   "cell_type": "code",
   "execution_count": 82,
   "id": "c1979648",
   "metadata": {},
   "outputs": [
    {
     "data": {
      "text/html": [
       "<div>\n",
       "<style scoped>\n",
       "    .dataframe tbody tr th:only-of-type {\n",
       "        vertical-align: middle;\n",
       "    }\n",
       "\n",
       "    .dataframe tbody tr th {\n",
       "        vertical-align: top;\n",
       "    }\n",
       "\n",
       "    .dataframe thead th {\n",
       "        text-align: right;\n",
       "    }\n",
       "</style>\n",
       "<table border=\"1\" class=\"dataframe\">\n",
       "  <thead>\n",
       "    <tr style=\"text-align: right;\">\n",
       "      <th></th>\n",
       "      <th>MOVIMIENTO_AERONAVE#es</th>\n",
       "      <th>MEDIDAS#es</th>\n",
       "      <th>AEROPUERTO_ORIGEN_DESTINO#es</th>\n",
       "      <th>SERVICIO_AEREO#es</th>\n",
       "      <th>TIME_PERIOD#es</th>\n",
       "      <th>TERRITORIO#es</th>\n",
       "      <th>OBS_VALUE</th>\n",
       "      <th>ESTADO_OBSERVACION#es</th>\n",
       "      <th>CONFIDENCIALIDAD_OBSERVACION#es</th>\n",
       "    </tr>\n",
       "  </thead>\n",
       "  <tbody>\n",
       "    <tr>\n",
       "      <th>0</th>\n",
       "      <td>Total</td>\n",
       "      <td>Operaciones</td>\n",
       "      <td>Reino Unido</td>\n",
       "      <td>Regular</td>\n",
       "      <td>01/2004</td>\n",
       "      <td>Canarias</td>\n",
       "      <td>425.0</td>\n",
       "      <td>Valor normal</td>\n",
       "      <td>NaN</td>\n",
       "    </tr>\n",
       "    <tr>\n",
       "      <th>1</th>\n",
       "      <td>Total</td>\n",
       "      <td>Operaciones</td>\n",
       "      <td>Reino Unido</td>\n",
       "      <td>Regular</td>\n",
       "      <td>02/2004</td>\n",
       "      <td>Canarias</td>\n",
       "      <td>378.0</td>\n",
       "      <td>Valor normal</td>\n",
       "      <td>NaN</td>\n",
       "    </tr>\n",
       "    <tr>\n",
       "      <th>2</th>\n",
       "      <td>Total</td>\n",
       "      <td>Operaciones</td>\n",
       "      <td>Reino Unido</td>\n",
       "      <td>Regular</td>\n",
       "      <td>03/2004</td>\n",
       "      <td>Canarias</td>\n",
       "      <td>358.0</td>\n",
       "      <td>Valor normal</td>\n",
       "      <td>NaN</td>\n",
       "    </tr>\n",
       "    <tr>\n",
       "      <th>3</th>\n",
       "      <td>Total</td>\n",
       "      <td>Operaciones</td>\n",
       "      <td>Reino Unido</td>\n",
       "      <td>Regular</td>\n",
       "      <td>04/2004</td>\n",
       "      <td>Canarias</td>\n",
       "      <td>280.0</td>\n",
       "      <td>Valor normal</td>\n",
       "      <td>NaN</td>\n",
       "    </tr>\n",
       "    <tr>\n",
       "      <th>4</th>\n",
       "      <td>Total</td>\n",
       "      <td>Operaciones</td>\n",
       "      <td>Reino Unido</td>\n",
       "      <td>Regular</td>\n",
       "      <td>05/2004</td>\n",
       "      <td>Canarias</td>\n",
       "      <td>187.0</td>\n",
       "      <td>Valor normal</td>\n",
       "      <td>NaN</td>\n",
       "    </tr>\n",
       "    <tr>\n",
       "      <th>...</th>\n",
       "      <td>...</td>\n",
       "      <td>...</td>\n",
       "      <td>...</td>\n",
       "      <td>...</td>\n",
       "      <td>...</td>\n",
       "      <td>...</td>\n",
       "      <td>...</td>\n",
       "      <td>...</td>\n",
       "      <td>...</td>\n",
       "    </tr>\n",
       "    <tr>\n",
       "      <th>215035</th>\n",
       "      <td>Llegada</td>\n",
       "      <td>Operaciones</td>\n",
       "      <td>Alemania</td>\n",
       "      <td>Comercial</td>\n",
       "      <td>04/2023</td>\n",
       "      <td>El Hierro</td>\n",
       "      <td>NaN</td>\n",
       "      <td>NaN</td>\n",
       "      <td>NaN</td>\n",
       "    </tr>\n",
       "    <tr>\n",
       "      <th>215036</th>\n",
       "      <td>Llegada</td>\n",
       "      <td>Operaciones</td>\n",
       "      <td>Alemania</td>\n",
       "      <td>Comercial</td>\n",
       "      <td>05/2023</td>\n",
       "      <td>El Hierro</td>\n",
       "      <td>NaN</td>\n",
       "      <td>NaN</td>\n",
       "      <td>NaN</td>\n",
       "    </tr>\n",
       "    <tr>\n",
       "      <th>215037</th>\n",
       "      <td>Llegada</td>\n",
       "      <td>Operaciones</td>\n",
       "      <td>Alemania</td>\n",
       "      <td>Comercial</td>\n",
       "      <td>06/2023</td>\n",
       "      <td>El Hierro</td>\n",
       "      <td>NaN</td>\n",
       "      <td>NaN</td>\n",
       "      <td>NaN</td>\n",
       "    </tr>\n",
       "    <tr>\n",
       "      <th>215038</th>\n",
       "      <td>Llegada</td>\n",
       "      <td>Operaciones</td>\n",
       "      <td>Alemania</td>\n",
       "      <td>Comercial</td>\n",
       "      <td>07/2023</td>\n",
       "      <td>El Hierro</td>\n",
       "      <td>NaN</td>\n",
       "      <td>NaN</td>\n",
       "      <td>NaN</td>\n",
       "    </tr>\n",
       "    <tr>\n",
       "      <th>215039</th>\n",
       "      <td>Llegada</td>\n",
       "      <td>Operaciones</td>\n",
       "      <td>Alemania</td>\n",
       "      <td>Comercial</td>\n",
       "      <td>08/2023</td>\n",
       "      <td>El Hierro</td>\n",
       "      <td>NaN</td>\n",
       "      <td>NaN</td>\n",
       "      <td>NaN</td>\n",
       "    </tr>\n",
       "  </tbody>\n",
       "</table>\n",
       "<p>215040 rows × 9 columns</p>\n",
       "</div>"
      ],
      "text/plain": [
       "       MOVIMIENTO_AERONAVE#es   MEDIDAS#es AEROPUERTO_ORIGEN_DESTINO#es  \\\n",
       "0                       Total  Operaciones                  Reino Unido   \n",
       "1                       Total  Operaciones                  Reino Unido   \n",
       "2                       Total  Operaciones                  Reino Unido   \n",
       "3                       Total  Operaciones                  Reino Unido   \n",
       "4                       Total  Operaciones                  Reino Unido   \n",
       "...                       ...          ...                          ...   \n",
       "215035                Llegada  Operaciones                     Alemania   \n",
       "215036                Llegada  Operaciones                     Alemania   \n",
       "215037                Llegada  Operaciones                     Alemania   \n",
       "215038                Llegada  Operaciones                     Alemania   \n",
       "215039                Llegada  Operaciones                     Alemania   \n",
       "\n",
       "       SERVICIO_AEREO#es TIME_PERIOD#es TERRITORIO#es  OBS_VALUE  \\\n",
       "0                Regular        01/2004      Canarias      425.0   \n",
       "1                Regular        02/2004      Canarias      378.0   \n",
       "2                Regular        03/2004      Canarias      358.0   \n",
       "3                Regular        04/2004      Canarias      280.0   \n",
       "4                Regular        05/2004      Canarias      187.0   \n",
       "...                  ...            ...           ...        ...   \n",
       "215035         Comercial        04/2023     El Hierro        NaN   \n",
       "215036         Comercial        05/2023     El Hierro        NaN   \n",
       "215037         Comercial        06/2023     El Hierro        NaN   \n",
       "215038         Comercial        07/2023     El Hierro        NaN   \n",
       "215039         Comercial        08/2023     El Hierro        NaN   \n",
       "\n",
       "       ESTADO_OBSERVACION#es  CONFIDENCIALIDAD_OBSERVACION#es  \n",
       "0               Valor normal                              NaN  \n",
       "1               Valor normal                              NaN  \n",
       "2               Valor normal                              NaN  \n",
       "3               Valor normal                              NaN  \n",
       "4               Valor normal                              NaN  \n",
       "...                      ...                              ...  \n",
       "215035                   NaN                              NaN  \n",
       "215036                   NaN                              NaN  \n",
       "215037                   NaN                              NaN  \n",
       "215038                   NaN                              NaN  \n",
       "215039                   NaN                              NaN  \n",
       "\n",
       "[215040 rows x 9 columns]"
      ]
     },
     "execution_count": 82,
     "metadata": {},
     "output_type": "execute_result"
    }
   ],
   "source": [
    "df_op_only"
   ]
  },
  {
   "cell_type": "code",
   "execution_count": null,
   "id": "30e6f527",
   "metadata": {},
   "outputs": [],
   "source": [
    "#df_op_only.to_csv(\"borrar.csv\", index=False)"
   ]
  },
  {
   "cell_type": "markdown",
   "id": "8017ff16",
   "metadata": {},
   "source": [
    "## Tráfico según tipos de servicios comerciales por islas y principales territorios de escala o de origen/destino"
   ]
  },
  {
   "cell_type": "markdown",
   "id": "3794e34c",
   "metadata": {},
   "source": [
    "### 04 Tráfico de pasajeros, mercancías, correos y operaciones"
   ]
  },
  {
   "cell_type": "markdown",
   "id": "15139077",
   "metadata": {},
   "source": [
    "Datasets 1, 2 and 3 put together in one"
   ]
  },
  {
   "cell_type": "markdown",
   "id": "417ca2ea",
   "metadata": {},
   "source": [
    "## Tráfico según tipos de servicios comerciales detallados por aeropuertos"
   ]
  },
  {
   "cell_type": "markdown",
   "id": "6e733213",
   "metadata": {},
   "source": [
    "### 05 Tráfico total de pasajeros, mercancías, correos y operaciones"
   ]
  },
  {
   "cell_type": "markdown",
   "id": "ad53a2c9",
   "metadata": {},
   "source": [
    "Como el dataset 04 pero te pone cada aeropuerto de origen/destino y el total de MOVIMIENTO_AERONAVE, es decir llegadas y salidas\n",
    "\n"
   ]
  },
  {
   "cell_type": "code",
   "execution_count": 64,
   "id": "e57fe029",
   "metadata": {},
   "outputs": [],
   "source": [
    "url_passengers = \"https://datos.canarias.es/api/estadisticas/statistical-resources/v1.0/datasets/ISTAC/C00017A_000001/~latest.csv\"\n",
    "url_gm = \"https://datos.canarias.es/api/estadisticas/statistical-resources/v1.0/datasets/ISTAC/C00017A_000002/~latest.csv\"\n",
    "url_op = \"https://datos.canarias.es/api/estadisticas/statistical-resources/v1.0/datasets/ISTAC/C00017A_000003/~latest.csv\""
   ]
  },
  {
   "cell_type": "code",
   "execution_count": 65,
   "id": "8cf4b141",
   "metadata": {},
   "outputs": [],
   "source": [
    "# Send HTTP GET request\n",
    "response = requests.get(url_passengers)\n",
    "\n",
    "# Check if the request was successful\n",
    "if response.status_code == 200:\n",
    "    # Read CSV data using pandas\n",
    "    csv_data = StringIO(response.content.decode(\"utf-8\"))\n",
    "    data = pd.read_csv(csv_data)\n",
    "else:\n",
    "    print(\"Failed to retrieve data. Status code:\", response.status_code)"
   ]
  },
  {
   "cell_type": "code",
   "execution_count": 54,
   "id": "0244de7f",
   "metadata": {},
   "outputs": [],
   "source": [
    "df_all = data.copy(deep=True)"
   ]
  },
  {
   "cell_type": "code",
   "execution_count": 58,
   "id": "bde59113",
   "metadata": {},
   "outputs": [
    {
     "name": "stdout",
     "output_type": "stream",
     "text": [
      "<class 'pandas.core.frame.DataFrame'>\n",
      "RangeIndex: 2963520 entries, 0 to 2963519\n",
      "Data columns (total 9 columns):\n",
      " #   Column                           Dtype  \n",
      "---  ------                           -----  \n",
      " 0   SERVICIO_AEREO#es                object \n",
      " 1   MEDIDAS#es                       object \n",
      " 2   MOVIMIENTO_AERONAVE#es           object \n",
      " 3   TIME_PERIOD#es                   object \n",
      " 4   AEROPUERTO_BASE#es               object \n",
      " 5   AEROPUERTO_ESCALA#es             object \n",
      " 6   OBS_VALUE                        float64\n",
      " 7   ESTADO_OBSERVACION#es            object \n",
      " 8   CONFIDENCIALIDAD_OBSERVACION#es  float64\n",
      "dtypes: float64(2), object(7)\n",
      "memory usage: 203.5+ MB\n"
     ]
    }
   ],
   "source": [
    "df_all.info()"
   ]
  },
  {
   "cell_type": "code",
   "execution_count": 57,
   "id": "69439e70",
   "metadata": {},
   "outputs": [],
   "source": [
    "df_all.drop(columns=df_all.columns[df_all.columns.str.endswith('_CODE')], inplace=True)"
   ]
  },
  {
   "cell_type": "code",
   "execution_count": 61,
   "id": "cd1d2f57",
   "metadata": {},
   "outputs": [
    {
     "data": {
      "text/html": [
       "<div>\n",
       "<style scoped>\n",
       "    .dataframe tbody tr th:only-of-type {\n",
       "        vertical-align: middle;\n",
       "    }\n",
       "\n",
       "    .dataframe tbody tr th {\n",
       "        vertical-align: top;\n",
       "    }\n",
       "\n",
       "    .dataframe thead th {\n",
       "        text-align: right;\n",
       "    }\n",
       "</style>\n",
       "<table border=\"1\" class=\"dataframe\">\n",
       "  <thead>\n",
       "    <tr style=\"text-align: right;\">\n",
       "      <th></th>\n",
       "      <th>SERVICIO_AEREO#es</th>\n",
       "      <th>MEDIDAS#es</th>\n",
       "      <th>MOVIMIENTO_AERONAVE#es</th>\n",
       "      <th>TIME_PERIOD#es</th>\n",
       "      <th>AEROPUERTO_BASE#es</th>\n",
       "      <th>AEROPUERTO_ESCALA#es</th>\n",
       "      <th>OBS_VALUE</th>\n",
       "      <th>ESTADO_OBSERVACION#es</th>\n",
       "      <th>CONFIDENCIALIDAD_OBSERVACION#es</th>\n",
       "    </tr>\n",
       "  </thead>\n",
       "  <tbody>\n",
       "  </tbody>\n",
       "</table>\n",
       "</div>"
      ],
      "text/plain": [
       "Empty DataFrame\n",
       "Columns: [SERVICIO_AEREO#es, MEDIDAS#es, MOVIMIENTO_AERONAVE#es, TIME_PERIOD#es, AEROPUERTO_BASE#es, AEROPUERTO_ESCALA#es, OBS_VALUE, ESTADO_OBSERVACION#es, CONFIDENCIALIDAD_OBSERVACION#es]\n",
       "Index: []"
      ]
     },
     "execution_count": 61,
     "metadata": {},
     "output_type": "execute_result"
    }
   ],
   "source": [
    "df_all.loc[(df_all['MEDIDAS#es'] != \"Pasajeros\")]"
   ]
  },
  {
   "cell_type": "code",
   "execution_count": 60,
   "id": "8f5c4643",
   "metadata": {},
   "outputs": [],
   "source": [
    "df_all.loc[(df_all['TIME_PERIOD#es'] == \"06/2025\")].to_csv(\"borrar.csv\", index=False)"
   ]
  },
  {
   "cell_type": "markdown",
   "id": "14154215",
   "metadata": {},
   "source": [
    "### 06 Entrada de pasajeros, mercancías y correos y operaciones de aterrizaje"
   ]
  },
  {
   "cell_type": "markdown",
   "id": "13f5f333",
   "metadata": {},
   "source": [
    "Como el dataset 05 pero solo entrada"
   ]
  },
  {
   "cell_type": "markdown",
   "id": "55c833af",
   "metadata": {},
   "source": [
    "### 07 Salida de pasajeros, mercancías y correos y operaciones de despegue"
   ]
  },
  {
   "cell_type": "markdown",
   "id": "7eb8ecea",
   "metadata": {},
   "source": [
    "Como el dataset 05 pero solo salida"
   ]
  }
 ],
 "metadata": {
  "kernelspec": {
   "display_name": "dashboard",
   "language": "python",
   "name": "python3"
  },
  "language_info": {
   "codemirror_mode": {
    "name": "ipython",
    "version": 3
   },
   "file_extension": ".py",
   "mimetype": "text/x-python",
   "name": "python",
   "nbconvert_exporter": "python",
   "pygments_lexer": "ipython3",
   "version": "3.12.11"
  }
 },
 "nbformat": 4,
 "nbformat_minor": 5
}
